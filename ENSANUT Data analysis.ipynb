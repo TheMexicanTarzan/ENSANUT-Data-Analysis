{
  "nbformat": 4,
  "nbformat_minor": 0,
  "metadata": {
    "colab": {
      "provenance": []
    },
    "kernelspec": {
      "name": "python3",
      "display_name": "Python 3 (ipykernel)",
      "language": "python"
    },
    "language_info": {
      "name": "python"
    }
  },
  "cells": [
    {
      "cell_type": "markdown",
      "source": [
        "# ENSANUT Analysis\n",
        "\n",
        "This proyect aims to study the correlation (if any) between depression and heart conditions or high blood pressure.\n",
        "\n",
        "This analysis will use public data provided by ENSANUT polls in Mexico."
      ],
      "metadata": {
        "id": "c5082UmYJp-d"
      }
    },
    {
      "cell_type": "code",
      "metadata": {
        "id": "7jRFfmW4wfam",
        "ExecuteTime": {
          "end_time": "2024-10-25T07:08:21.489137Z",
          "start_time": "2024-10-25T07:08:21.484248Z"
        }
      },
      "source": [
        "import pandas as pd\n",
        "import seaborn as sns\n",
        "import matplotlib.pyplot as plt\n",
        "import numpy as np\n",
        "from scipy.stats import chi2_contingency"
      ],
      "outputs": [],
      "execution_count": null
    },
    {
      "cell_type": "markdown",
      "source": [
        "## Data preparation:"
      ],
      "metadata": {
        "id": "3tGe9MBjzkNI"
      }
    },
    {
      "metadata": {
        "id": "TmP3N5C50JKS"
      },
      "cell_type": "markdown",
      "source": [
        "### General DataFrame to be used"
      ]
    },
    {
      "cell_type": "code",
      "source": [
        "path = 'D:/Documentos/UDLAP/Materias/Minería de Datos/Lab3/' # Change the path according to file location\n",
        "datos = pd.read_csv(path + \"ensadul2022_entrega_w.csv\", dtype = {0: str}, delimiter = \";\", na_values = \" \", skiprows = 0, low_memory = False)\n",
        "cat = pd.read_excel(\n",
        "    path + \"ensadul2022_entrega_w.Catlogo.xlsx\", header = [0, 1], sheet_name = 'Variables', index_col = None, skiprows = 15\n",
        ")\n",
        "datos_depresion = datos.loc[:, [\"a0202\", \"a0211\", \"a0212\", \"a0213\", \"a0214\", \"a0215\", \"a0216\", \"a0217\"]]#   #\n",
        "datos_hipertension = datos.loc[:, [\"a0401\", \"a0402a\", \"a0402m\", \"a0404\", \"a0404a\", \"a0405a\", \"a0405m\", \"a0406\", \"a0406a\", \"a0406b\", \"a0407\", \"a0407esp\", \"A0408A\", \"A0408E\", \"a0410ev\", \"a0410fd\", \"a0410fv\"]]\n",
        "datos_enfermedad_cardiaca = datos.loc[:, [\"a0502a\", \"a0502b\", \"a0502c\", \"a0502d\"]]"
      ],
      "metadata": {
        "id": "GNRLjkLNw5ZQ",
        "ExecuteTime": {
          "end_time": "2024-10-25T07:08:30.114710Z",
          "start_time": "2024-10-25T07:08:21.506358Z"
        }
      },
      "outputs": [],
      "execution_count": null
    },
    {
      "metadata": {
        "id": "0-X3-fPf0JKV"
      },
      "cell_type": "markdown",
      "source": [
        "### DataFrame which will be used for the missing data imputation."
      ]
    },
    {
      "metadata": {
        "ExecuteTime": {
          "end_time": "2024-10-25T07:08:30.566492Z",
          "start_time": "2024-10-25T07:08:30.117723Z"
        },
        "id": "H2p-PMg80JKX",
        "outputId": "341b9898-dd43-466c-e915-d225fc848f98"
      },
      "cell_type": "code",
      "source": [
        "# First, since we're using the subset of people with high blood pressure,\n",
        "# we'll remove those entries who answered that they don't have high blood pressure\n",
        "\n",
        "dfh = datos_hipertension[datos_hipertension[\"a0401\"] != 3].copy()\n",
        "\n",
        "# We'll define as \"missing\" an entry which does not know when they were diagnosed\n",
        "# or if they don't answer anything at all.\n",
        "\n",
        "dfc = dfh.loc[:, \"a0402m\"]\n",
        "dfc = dfc.where(dfc != 88)\n",
        "dfc = dfc.where(dfc != 99)\n",
        "\n",
        "dfh[\"a0402m\"] = dfc\n",
        "\n",
        "dfc = dfh.loc[:, \"a0402a\"]\n",
        "dfc = dfc.where(dfc != 88)\n",
        "dfc = dfc.where(dfc != 99)\n",
        "\n",
        "dfh[\"a0402a\"] = dfc\n",
        "\n",
        "# We estimate the invalid values as the median of the column\n",
        "\n",
        "dfh[\"a0402m\"] = dfh[\"a0402m\"].replace(np.nan, dfh[\"a0402m\"].median())\n",
        "dfh[\"a0405a\"] = dfh[\"a0405a\"].replace(np.nan, dfh[\"a0405a\"].median())\n",
        "dfh[\"a0406b\"] = dfh[\"a0406b\"].replace(np.nan, dfh[\"a0406b\"].median())\n",
        "dfh[\"a0410ev\"] = dfh[\"a0410ev\"].replace(np.nan, dfh[\"a0410ev\"].median())\n",
        "dfh[\"a0410fd\"] = dfh[\"a0410fd\"].replace(np.nan, dfh[\"a0410fd\"].median())\n",
        "dfh[\"a0410fv\"] = dfh[\"a0410fv\"].replace(np.nan, dfh[\"a0410fv\"].median())\n",
        "\n",
        "# We replace the invalid values of column a0406a with their respective 'no' answer\n",
        "dfh[\"a0406a\"] = dfh[\"a0406a\"].replace(np.nan, 2.0)\n",
        "\n",
        "# We replace the invalid values of column a0407 with their respective\n",
        "# 'does not know' answer\n",
        "dfh[\"a0407\"] = dfh[\"a0407\"].replace(np.nan, 10)\n",
        "\n",
        "dfh"
      ],
      "outputs": [
        {
          "data": {
            "text/plain": [
              "       a0401  a0402a  a0402m  a0404  a0404a  a0405a  a0405m  a0406  a0406a  \\\n",
              "8          1     1.0     7.0    1.0   500.0     7.0     0.0   12.0     2.0   \n",
              "10         1     2.0     0.0    1.0     0.0     2.0     0.0   12.0     2.0   \n",
              "15         1    30.0     0.0    1.0     0.0    30.0     0.0    2.0     1.0   \n",
              "17         1     8.0     0.0    1.0     0.0     8.0     0.0    0.0     2.0   \n",
              "33         1     9.0     0.0    1.0     0.0     9.0     0.0    8.0     2.0   \n",
              "...      ...     ...     ...    ...     ...     ...     ...    ...     ...   \n",
              "11902      1     7.0     0.0    1.0     0.0     7.0     0.0   12.0     2.0   \n",
              "11904      1     2.0     0.0    1.0   300.0     2.0     0.0    3.0     2.0   \n",
              "11905      1     2.0     0.0    1.0     0.0     2.0     0.0    0.0     2.0   \n",
              "11906      1     4.0     0.0    1.0     0.0     4.0     0.0   12.0     2.0   \n",
              "11912      1     1.0     0.0    1.0     0.0     1.0     0.0    6.0     1.0   \n",
              "\n",
              "       a0406b  a0407 a0407esp  A0408A  A0408E  a0410ev  a0410fd  a0410fv  \n",
              "8       600.0    8.0      NaN     5.0     NaN      1.0      3.0      1.0  \n",
              "10        0.0    1.0      NaN     5.0     NaN      1.0      3.0      1.0  \n",
              "15        0.0    1.0      NaN     5.0     NaN      1.0      3.0      1.0  \n",
              "17        0.0   10.0      NaN     5.0     NaN      1.0      3.0      1.0  \n",
              "33        0.0    1.0      NaN     5.0     NaN      1.0      3.0      1.0  \n",
              "...       ...    ...      ...     ...     ...      ...      ...      ...  \n",
              "11902     0.0    2.0      NaN     5.0     NaN      1.0      3.0      1.0  \n",
              "11904   300.0    8.0      NaN     5.0     NaN      1.0      3.0      1.0  \n",
              "11905     0.0   10.0      NaN     5.0     NaN      1.0      3.0      1.0  \n",
              "11906     0.0    4.0      NaN     5.0     NaN      1.0      3.0      1.0  \n",
              "11912     0.0    1.0      NaN     5.0     NaN      1.0      3.0      1.0  \n",
              "\n",
              "[2290 rows x 17 columns]"
            ],
            "text/html": [
              "<div>\n",
              "<style scoped>\n",
              "    .dataframe tbody tr th:only-of-type {\n",
              "        vertical-align: middle;\n",
              "    }\n",
              "\n",
              "    .dataframe tbody tr th {\n",
              "        vertical-align: top;\n",
              "    }\n",
              "\n",
              "    .dataframe thead th {\n",
              "        text-align: right;\n",
              "    }\n",
              "</style>\n",
              "<table border=\"1\" class=\"dataframe\">\n",
              "  <thead>\n",
              "    <tr style=\"text-align: right;\">\n",
              "      <th></th>\n",
              "      <th>a0401</th>\n",
              "      <th>a0402a</th>\n",
              "      <th>a0402m</th>\n",
              "      <th>a0404</th>\n",
              "      <th>a0404a</th>\n",
              "      <th>a0405a</th>\n",
              "      <th>a0405m</th>\n",
              "      <th>a0406</th>\n",
              "      <th>a0406a</th>\n",
              "      <th>a0406b</th>\n",
              "      <th>a0407</th>\n",
              "      <th>a0407esp</th>\n",
              "      <th>A0408A</th>\n",
              "      <th>A0408E</th>\n",
              "      <th>a0410ev</th>\n",
              "      <th>a0410fd</th>\n",
              "      <th>a0410fv</th>\n",
              "    </tr>\n",
              "  </thead>\n",
              "  <tbody>\n",
              "    <tr>\n",
              "      <th>8</th>\n",
              "      <td>1</td>\n",
              "      <td>1.0</td>\n",
              "      <td>7.0</td>\n",
              "      <td>1.0</td>\n",
              "      <td>500.0</td>\n",
              "      <td>7.0</td>\n",
              "      <td>0.0</td>\n",
              "      <td>12.0</td>\n",
              "      <td>2.0</td>\n",
              "      <td>600.0</td>\n",
              "      <td>8.0</td>\n",
              "      <td>NaN</td>\n",
              "      <td>5.0</td>\n",
              "      <td>NaN</td>\n",
              "      <td>1.0</td>\n",
              "      <td>3.0</td>\n",
              "      <td>1.0</td>\n",
              "    </tr>\n",
              "    <tr>\n",
              "      <th>10</th>\n",
              "      <td>1</td>\n",
              "      <td>2.0</td>\n",
              "      <td>0.0</td>\n",
              "      <td>1.0</td>\n",
              "      <td>0.0</td>\n",
              "      <td>2.0</td>\n",
              "      <td>0.0</td>\n",
              "      <td>12.0</td>\n",
              "      <td>2.0</td>\n",
              "      <td>0.0</td>\n",
              "      <td>1.0</td>\n",
              "      <td>NaN</td>\n",
              "      <td>5.0</td>\n",
              "      <td>NaN</td>\n",
              "      <td>1.0</td>\n",
              "      <td>3.0</td>\n",
              "      <td>1.0</td>\n",
              "    </tr>\n",
              "    <tr>\n",
              "      <th>15</th>\n",
              "      <td>1</td>\n",
              "      <td>30.0</td>\n",
              "      <td>0.0</td>\n",
              "      <td>1.0</td>\n",
              "      <td>0.0</td>\n",
              "      <td>30.0</td>\n",
              "      <td>0.0</td>\n",
              "      <td>2.0</td>\n",
              "      <td>1.0</td>\n",
              "      <td>0.0</td>\n",
              "      <td>1.0</td>\n",
              "      <td>NaN</td>\n",
              "      <td>5.0</td>\n",
              "      <td>NaN</td>\n",
              "      <td>1.0</td>\n",
              "      <td>3.0</td>\n",
              "      <td>1.0</td>\n",
              "    </tr>\n",
              "    <tr>\n",
              "      <th>17</th>\n",
              "      <td>1</td>\n",
              "      <td>8.0</td>\n",
              "      <td>0.0</td>\n",
              "      <td>1.0</td>\n",
              "      <td>0.0</td>\n",
              "      <td>8.0</td>\n",
              "      <td>0.0</td>\n",
              "      <td>0.0</td>\n",
              "      <td>2.0</td>\n",
              "      <td>0.0</td>\n",
              "      <td>10.0</td>\n",
              "      <td>NaN</td>\n",
              "      <td>5.0</td>\n",
              "      <td>NaN</td>\n",
              "      <td>1.0</td>\n",
              "      <td>3.0</td>\n",
              "      <td>1.0</td>\n",
              "    </tr>\n",
              "    <tr>\n",
              "      <th>33</th>\n",
              "      <td>1</td>\n",
              "      <td>9.0</td>\n",
              "      <td>0.0</td>\n",
              "      <td>1.0</td>\n",
              "      <td>0.0</td>\n",
              "      <td>9.0</td>\n",
              "      <td>0.0</td>\n",
              "      <td>8.0</td>\n",
              "      <td>2.0</td>\n",
              "      <td>0.0</td>\n",
              "      <td>1.0</td>\n",
              "      <td>NaN</td>\n",
              "      <td>5.0</td>\n",
              "      <td>NaN</td>\n",
              "      <td>1.0</td>\n",
              "      <td>3.0</td>\n",
              "      <td>1.0</td>\n",
              "    </tr>\n",
              "    <tr>\n",
              "      <th>...</th>\n",
              "      <td>...</td>\n",
              "      <td>...</td>\n",
              "      <td>...</td>\n",
              "      <td>...</td>\n",
              "      <td>...</td>\n",
              "      <td>...</td>\n",
              "      <td>...</td>\n",
              "      <td>...</td>\n",
              "      <td>...</td>\n",
              "      <td>...</td>\n",
              "      <td>...</td>\n",
              "      <td>...</td>\n",
              "      <td>...</td>\n",
              "      <td>...</td>\n",
              "      <td>...</td>\n",
              "      <td>...</td>\n",
              "      <td>...</td>\n",
              "    </tr>\n",
              "    <tr>\n",
              "      <th>11902</th>\n",
              "      <td>1</td>\n",
              "      <td>7.0</td>\n",
              "      <td>0.0</td>\n",
              "      <td>1.0</td>\n",
              "      <td>0.0</td>\n",
              "      <td>7.0</td>\n",
              "      <td>0.0</td>\n",
              "      <td>12.0</td>\n",
              "      <td>2.0</td>\n",
              "      <td>0.0</td>\n",
              "      <td>2.0</td>\n",
              "      <td>NaN</td>\n",
              "      <td>5.0</td>\n",
              "      <td>NaN</td>\n",
              "      <td>1.0</td>\n",
              "      <td>3.0</td>\n",
              "      <td>1.0</td>\n",
              "    </tr>\n",
              "    <tr>\n",
              "      <th>11904</th>\n",
              "      <td>1</td>\n",
              "      <td>2.0</td>\n",
              "      <td>0.0</td>\n",
              "      <td>1.0</td>\n",
              "      <td>300.0</td>\n",
              "      <td>2.0</td>\n",
              "      <td>0.0</td>\n",
              "      <td>3.0</td>\n",
              "      <td>2.0</td>\n",
              "      <td>300.0</td>\n",
              "      <td>8.0</td>\n",
              "      <td>NaN</td>\n",
              "      <td>5.0</td>\n",
              "      <td>NaN</td>\n",
              "      <td>1.0</td>\n",
              "      <td>3.0</td>\n",
              "      <td>1.0</td>\n",
              "    </tr>\n",
              "    <tr>\n",
              "      <th>11905</th>\n",
              "      <td>1</td>\n",
              "      <td>2.0</td>\n",
              "      <td>0.0</td>\n",
              "      <td>1.0</td>\n",
              "      <td>0.0</td>\n",
              "      <td>2.0</td>\n",
              "      <td>0.0</td>\n",
              "      <td>0.0</td>\n",
              "      <td>2.0</td>\n",
              "      <td>0.0</td>\n",
              "      <td>10.0</td>\n",
              "      <td>NaN</td>\n",
              "      <td>5.0</td>\n",
              "      <td>NaN</td>\n",
              "      <td>1.0</td>\n",
              "      <td>3.0</td>\n",
              "      <td>1.0</td>\n",
              "    </tr>\n",
              "    <tr>\n",
              "      <th>11906</th>\n",
              "      <td>1</td>\n",
              "      <td>4.0</td>\n",
              "      <td>0.0</td>\n",
              "      <td>1.0</td>\n",
              "      <td>0.0</td>\n",
              "      <td>4.0</td>\n",
              "      <td>0.0</td>\n",
              "      <td>12.0</td>\n",
              "      <td>2.0</td>\n",
              "      <td>0.0</td>\n",
              "      <td>4.0</td>\n",
              "      <td>NaN</td>\n",
              "      <td>5.0</td>\n",
              "      <td>NaN</td>\n",
              "      <td>1.0</td>\n",
              "      <td>3.0</td>\n",
              "      <td>1.0</td>\n",
              "    </tr>\n",
              "    <tr>\n",
              "      <th>11912</th>\n",
              "      <td>1</td>\n",
              "      <td>1.0</td>\n",
              "      <td>0.0</td>\n",
              "      <td>1.0</td>\n",
              "      <td>0.0</td>\n",
              "      <td>1.0</td>\n",
              "      <td>0.0</td>\n",
              "      <td>6.0</td>\n",
              "      <td>1.0</td>\n",
              "      <td>0.0</td>\n",
              "      <td>1.0</td>\n",
              "      <td>NaN</td>\n",
              "      <td>5.0</td>\n",
              "      <td>NaN</td>\n",
              "      <td>1.0</td>\n",
              "      <td>3.0</td>\n",
              "      <td>1.0</td>\n",
              "    </tr>\n",
              "  </tbody>\n",
              "</table>\n",
              "<p>2290 rows × 17 columns</p>\n",
              "</div>"
            ]
          },
          "execution_count": 4,
          "metadata": {},
          "output_type": "execute_result"
        }
      ],
      "execution_count": null
    },
    {
      "metadata": {
        "ExecuteTime": {
          "end_time": "2024-10-25T07:09:02.891552Z",
          "start_time": "2024-10-25T07:09:01.231985Z"
        },
        "id": "KfjpjiEX0JKZ",
        "outputId": "84addfe1-c45d-4f84-f6ab-f9f2b6da7806"
      },
      "cell_type": "code",
      "source": [
        "# We graph the years since each individual was diagnosed to compare the normal\n",
        "# data with the estimate data\n",
        "\n",
        "# df_im: DataFrame with imputated data\n",
        "# df_un: DataFrame with untouched data\n",
        "\n",
        "med = dfh[\"a0402a\"].median()\n",
        "# dfh = dfh[dfh[\"a0402a\"] <= 10]\n",
        "\n",
        "df_im = dfh.loc[:, [\"a0402a\", \"a0401\"]]\n",
        "df_im[\"a0402a\"] = dfh[\"a0402a\"].replace(np.nan, med)\n",
        "\n",
        "df_im.rename(columns = {\"a0402a\": \"Datos con Mediana\"}, inplace = True)\n",
        "\n",
        "df_un = dfh.loc[:, [\"a0402a\", \"a0401\"]]\n",
        "df_un[\"a0402a\"] = dfh[\"a0402a\"].replace(np.nan, 0)\n",
        "df_un.rename(columns = {\"a0402a\": \"Datos a Cero\"}, inplace = True)\n",
        "\n",
        "# Create figure and axes\n",
        "\n",
        "fig, ax = plt.subplots(figsize = (10, 6))\n",
        "\n",
        "sns.histplot(\n",
        "    data = df_im.loc[:, \"Datos con Mediana\"],\n",
        "    binwidth = 1,\n",
        "    color = \"orange\",\n",
        "    alpha = 0.5,\n",
        "    stat = \"percent\",\n",
        "    label = \"Mediana\"\n",
        ")\n",
        "\n",
        "sns.histplot(\n",
        "    data = df_un.loc[:, \"Datos a Cero\"],\n",
        "    binwidth = 1,\n",
        "    color = \"green\",\n",
        "    alpha = 0.5,\n",
        "    stat = \"percent\",\n",
        "    label = \"Cero\"\n",
        ")\n",
        "\n",
        "\n",
        "\n",
        "# Set up style and title\n",
        "\n",
        "fig.suptitle(\"Años desde que se diagnosticó hipertensión\")\n",
        "ax.set_ylabel(\"Porcentaje\")\n",
        "plt.legend()\n",
        "\n",
        "plt.show()\n",
        "\n",
        "df_un"
      ],
      "outputs": [
        {
          "data": {
            "text/plain": [
              "<Figure size 1000x600 with 1 Axes>"
            ],
            "image/png": "[encoded data removed]"
          },
          "metadata": {},
          "output_type": "display_data"
        },
        {
          "data": {
            "text/plain": [
              "       Datos a Cero  a0401\n",
              "8               1.0      1\n",
              "10              2.0      1\n",
              "15             30.0      1\n",
              "17              8.0      1\n",
              "33              9.0      1\n",
              "...             ...    ...\n",
              "11902           7.0      1\n",
              "11904           2.0      1\n",
              "11905           2.0      1\n",
              "11906           4.0      1\n",
              "11912           1.0      1\n",
              "\n",
              "[2290 rows x 2 columns]"
            ],
            "text/html": [
              "<div>\n",
              "<style scoped>\n",
              "    .dataframe tbody tr th:only-of-type {\n",
              "        vertical-align: middle;\n",
              "    }\n",
              "\n",
              "    .dataframe tbody tr th {\n",
              "        vertical-align: top;\n",
              "    }\n",
              "\n",
              "    .dataframe thead th {\n",
              "        text-align: right;\n",
              "    }\n",
              "</style>\n",
              "<table border=\"1\" class=\"dataframe\">\n",
              "  <thead>\n",
              "    <tr style=\"text-align: right;\">\n",
              "      <th></th>\n",
              "      <th>Datos a Cero</th>\n",
              "      <th>a0401</th>\n",
              "    </tr>\n",
              "  </thead>\n",
              "  <tbody>\n",
              "    <tr>\n",
              "      <th>8</th>\n",
              "      <td>1.0</td>\n",
              "      <td>1</td>\n",
              "    </tr>\n",
              "    <tr>\n",
              "      <th>10</th>\n",
              "      <td>2.0</td>\n",
              "      <td>1</td>\n",
              "    </tr>\n",
              "    <tr>\n",
              "      <th>15</th>\n",
              "      <td>30.0</td>\n",
              "      <td>1</td>\n",
              "    </tr>\n",
              "    <tr>\n",
              "      <th>17</th>\n",
              "      <td>8.0</td>\n",
              "      <td>1</td>\n",
              "    </tr>\n",
              "    <tr>\n",
              "      <th>33</th>\n",
              "      <td>9.0</td>\n",
              "      <td>1</td>\n",
              "    </tr>\n",
              "    <tr>\n",
              "      <th>...</th>\n",
              "      <td>...</td>\n",
              "      <td>...</td>\n",
              "    </tr>\n",
              "    <tr>\n",
              "      <th>11902</th>\n",
              "      <td>7.0</td>\n",
              "      <td>1</td>\n",
              "    </tr>\n",
              "    <tr>\n",
              "      <th>11904</th>\n",
              "      <td>2.0</td>\n",
              "      <td>1</td>\n",
              "    </tr>\n",
              "    <tr>\n",
              "      <th>11905</th>\n",
              "      <td>2.0</td>\n",
              "      <td>1</td>\n",
              "    </tr>\n",
              "    <tr>\n",
              "      <th>11906</th>\n",
              "      <td>4.0</td>\n",
              "      <td>1</td>\n",
              "    </tr>\n",
              "    <tr>\n",
              "      <th>11912</th>\n",
              "      <td>1.0</td>\n",
              "      <td>1</td>\n",
              "    </tr>\n",
              "  </tbody>\n",
              "</table>\n",
              "<p>2290 rows × 2 columns</p>\n",
              "</div>"
            ]
          },
          "execution_count": 29,
          "metadata": {},
          "output_type": "execute_result"
        }
      ],
      "execution_count": null
    },
    {
      "metadata": {
        "ExecuteTime": {
          "end_time": "2024-10-25T07:08:34.263721Z",
          "start_time": "2024-10-25T07:08:34.241380Z"
        },
        "id": "u5S5699x0JKb"
      },
      "cell_type": "code",
      "source": [
        "datos_hipertension.replace(np.nan, 0, inplace = True)\n",
        "datos_hipertension = datos_hipertension[datos[\"a0406\"] < 99]\n",
        "max1 = datos_hipertension[\"a0406\"].max()\n",
        "\n",
        "# We apply MaxAbs on the column\n",
        "\n",
        "datos_hipertension[\"a0406\"] = datos_hipertension[\"a0406\"] / max1\n",
        "\n",
        "# Second, we obtain the maximum value of column 'a0401ev'\n",
        "# This column does not contain special options\n",
        "\n",
        "max2 = datos_hipertension[\"a0410ev\"].max()\n",
        "\n",
        "# We apply MaxAbs on the column\n",
        "\n",
        "datos_hipertension[\"a0410ev\"] = datos_hipertension[\"a0410ev\"] / max2\n",
        "\n",
        "# We calculate the \"Score\" as a lineal combination\n",
        "\n",
        "datos_hipertension[\"Hip_Score\"] = datos_hipertension[\"a0404\"] + datos_hipertension[\"a0406\"] + 2 * datos_hipertension[\"a0410ev\"]\n",
        "\n",
        "# We convert to percentage dividing over the maximum value\n",
        "\n",
        "datos_hipertension[\"Hip_Score\"] = datos_hipertension[\"Hip_Score\"] / 4"
      ],
      "outputs": [],
      "execution_count": null
    },
    {
      "metadata": {
        "id": "T5vvigrg0JKc"
      },
      "cell_type": "markdown",
      "source": [
        "## Functions to generate graphs.\n",
        "\n",
        "---\n",
        "\n"
      ]
    },
    {
      "metadata": {
        "ExecuteTime": {
          "end_time": "2024-10-25T07:08:34.271914Z",
          "start_time": "2024-10-25T07:08:34.265730Z"
        },
        "id": "6FCUQ8kv0JKd"
      },
      "cell_type": "code",
      "source": [
        "# Obtener la pregunta a partir de la etiqueta de la columna\n",
        "\n",
        "def get_title(fl_cat, label):\n",
        "  # Filtramos datos para obtener el nombre de la columna, convirtiendo la celda de la tupla\n",
        "  # en un numpy.array, y obtenemos el valor que nos interesa\n",
        "  fl_cat_filt = fl_cat[fl_cat['Información de variable']['Variable'] == label]\n",
        "  title = fl_cat_filt[('Información de variable', 'Etiqueta')].to_numpy()[0]\n",
        "  return title"
      ],
      "outputs": [],
      "execution_count": null
    },
    {
      "metadata": {
        "ExecuteTime": {
          "end_time": "2024-10-25T07:08:34.292031Z",
          "start_time": "2024-10-25T07:08:34.282934Z"
        },
        "id": "A6q_eu7a0JKe"
      },
      "cell_type": "code",
      "source": [
        "# Obtener la grafica de correlacion de una lista de columnas de una tabla\n",
        "\n",
        "def graph_correlation(dataframe, column_list, label_list, title):\n",
        "    dataframe = dataframe.loc[:, column_list]\n",
        "\n",
        "    correlation_matrix = dataframe.corr()\n",
        "\n",
        "    ax = sns.heatmap(\n",
        "        correlation_matrix,\n",
        "        cmap = \"BrBG\",\n",
        "        vmin = -1,\n",
        "        vmax = 1,\n",
        "        annot = True,\n",
        "        linewidth = 1,\n",
        "        xticklabels = label_list,\n",
        "        yticklabels = label_list,\n",
        "        square = True\n",
        "    )\n",
        "\n",
        "    ax.set_title(title)"
      ],
      "outputs": [],
      "execution_count": null
    },
    {
      "metadata": {
        "id": "jG-UntWn0JKf"
      },
      "cell_type": "markdown",
      "source": [
        "## Data transformations\n",
        "\n",
        "---\n",
        "\n"
      ]
    },
    {
      "metadata": {
        "id": "9cQInL-X0JKg"
      },
      "cell_type": "markdown",
      "source": [
        "### Generalizing a score based on depressive symptomalotogy."
      ]
    },
    {
      "metadata": {
        "ExecuteTime": {
          "end_time": "2024-10-25T07:08:34.329123Z",
          "start_time": "2024-10-25T07:08:34.296046Z"
        },
        "id": "8yE4rgs00JKg",
        "outputId": "325e6961-9424-42b6-9f61-97e4a297e961"
      },
      "cell_type": "code",
      "source": [
        "# Calculo del \"Score\" de Depresion\n",
        "\n",
        "# Obtenemos la lista de columnas que se usaran para calcular dicho \"Score\"\n",
        "\n",
        "dlst = [\"a0212\", \"a0213\", \"a0214\", \"a0215\", \"a0216\", \"a0217\"]\n",
        "\n",
        "# Ajustamos la columna a0216 para darle mas peso a las respuestas mas negativas\n",
        "# Puesto que en esta columna, las respuestas mayores son positivas\n",
        "\n",
        "datos_depresion[\"a0216\"] =  5 - datos_depresion[\"a0216\"]\n",
        "\n",
        "# Ajustamos la respuesta para que vaya de 0 a 3\n",
        "\n",
        "for column in dlst:\n",
        "    datos_depresion[column] = datos_depresion[column] - 1\n",
        "\n",
        "# Calculamos el \"Score\" como una suma (transformacion lineal) de las respuestas\n",
        "\n",
        "datos_depresion[\"Dep_Score\"] = datos_depresion[dlst].sum(axis = 1)\n",
        "\n",
        "# Realizamos una conversion a % dividiendo sobre el maximo\n",
        "\n",
        "datos_depresion[\"Dep_Score\"] = datos_depresion[\"Dep_Score\"] / 18\n",
        "\n",
        "datos_depresion"
      ],
      "outputs": [
        {
          "data": {
            "text/plain": [
              "       a0202  a0211  a0212  a0213  a0214  a0215  a0216  a0217  Dep_Score\n",
              "0          1      1      1      1      2      1      0      1   0.333333\n",
              "1          2      1      0      0      0      0      0      0   0.000000\n",
              "2          2      1      0      0      1      0      0      0   0.055556\n",
              "3          1      1      0      0      0      0      0      0   0.000000\n",
              "4          2      1      0      0      0      0      0      0   0.000000\n",
              "...      ...    ...    ...    ...    ...    ...    ...    ...        ...\n",
              "11908      2      2      0      2      2      2      3      2   0.611111\n",
              "11909      2      1      0      0      0      0      0      0   0.000000\n",
              "11910      2      1      0      0      0      0      0      0   0.000000\n",
              "11911      2      1      0      0      0      0      0      0   0.000000\n",
              "11912      2      1      0      0      0      0      0      0   0.000000\n",
              "\n",
              "[11913 rows x 9 columns]"
            ],
            "text/html": [
              "<div>\n",
              "<style scoped>\n",
              "    .dataframe tbody tr th:only-of-type {\n",
              "        vertical-align: middle;\n",
              "    }\n",
              "\n",
              "    .dataframe tbody tr th {\n",
              "        vertical-align: top;\n",
              "    }\n",
              "\n",
              "    .dataframe thead th {\n",
              "        text-align: right;\n",
              "    }\n",
              "</style>\n",
              "<table border=\"1\" class=\"dataframe\">\n",
              "  <thead>\n",
              "    <tr style=\"text-align: right;\">\n",
              "      <th></th>\n",
              "      <th>a0202</th>\n",
              "      <th>a0211</th>\n",
              "      <th>a0212</th>\n",
              "      <th>a0213</th>\n",
              "      <th>a0214</th>\n",
              "      <th>a0215</th>\n",
              "      <th>a0216</th>\n",
              "      <th>a0217</th>\n",
              "      <th>Dep_Score</th>\n",
              "    </tr>\n",
              "  </thead>\n",
              "  <tbody>\n",
              "    <tr>\n",
              "      <th>0</th>\n",
              "      <td>1</td>\n",
              "      <td>1</td>\n",
              "      <td>1</td>\n",
              "      <td>1</td>\n",
              "      <td>2</td>\n",
              "      <td>1</td>\n",
              "      <td>0</td>\n",
              "      <td>1</td>\n",
              "      <td>0.333333</td>\n",
              "    </tr>\n",
              "    <tr>\n",
              "      <th>1</th>\n",
              "      <td>2</td>\n",
              "      <td>1</td>\n",
              "      <td>0</td>\n",
              "      <td>0</td>\n",
              "      <td>0</td>\n",
              "      <td>0</td>\n",
              "      <td>0</td>\n",
              "      <td>0</td>\n",
              "      <td>0.000000</td>\n",
              "    </tr>\n",
              "    <tr>\n",
              "      <th>2</th>\n",
              "      <td>2</td>\n",
              "      <td>1</td>\n",
              "      <td>0</td>\n",
              "      <td>0</td>\n",
              "      <td>1</td>\n",
              "      <td>0</td>\n",
              "      <td>0</td>\n",
              "      <td>0</td>\n",
              "      <td>0.055556</td>\n",
              "    </tr>\n",
              "    <tr>\n",
              "      <th>3</th>\n",
              "      <td>1</td>\n",
              "      <td>1</td>\n",
              "      <td>0</td>\n",
              "      <td>0</td>\n",
              "      <td>0</td>\n",
              "      <td>0</td>\n",
              "      <td>0</td>\n",
              "      <td>0</td>\n",
              "      <td>0.000000</td>\n",
              "    </tr>\n",
              "    <tr>\n",
              "      <th>4</th>\n",
              "      <td>2</td>\n",
              "      <td>1</td>\n",
              "      <td>0</td>\n",
              "      <td>0</td>\n",
              "      <td>0</td>\n",
              "      <td>0</td>\n",
              "      <td>0</td>\n",
              "      <td>0</td>\n",
              "      <td>0.000000</td>\n",
              "    </tr>\n",
              "    <tr>\n",
              "      <th>...</th>\n",
              "      <td>...</td>\n",
              "      <td>...</td>\n",
              "      <td>...</td>\n",
              "      <td>...</td>\n",
              "      <td>...</td>\n",
              "      <td>...</td>\n",
              "      <td>...</td>\n",
              "      <td>...</td>\n",
              "      <td>...</td>\n",
              "    </tr>\n",
              "    <tr>\n",
              "      <th>11908</th>\n",
              "      <td>2</td>\n",
              "      <td>2</td>\n",
              "      <td>0</td>\n",
              "      <td>2</td>\n",
              "      <td>2</td>\n",
              "      <td>2</td>\n",
              "      <td>3</td>\n",
              "      <td>2</td>\n",
              "      <td>0.611111</td>\n",
              "    </tr>\n",
              "    <tr>\n",
              "      <th>11909</th>\n",
              "      <td>2</td>\n",
              "      <td>1</td>\n",
              "      <td>0</td>\n",
              "      <td>0</td>\n",
              "      <td>0</td>\n",
              "      <td>0</td>\n",
              "      <td>0</td>\n",
              "      <td>0</td>\n",
              "      <td>0.000000</td>\n",
              "    </tr>\n",
              "    <tr>\n",
              "      <th>11910</th>\n",
              "      <td>2</td>\n",
              "      <td>1</td>\n",
              "      <td>0</td>\n",
              "      <td>0</td>\n",
              "      <td>0</td>\n",
              "      <td>0</td>\n",
              "      <td>0</td>\n",
              "      <td>0</td>\n",
              "      <td>0.000000</td>\n",
              "    </tr>\n",
              "    <tr>\n",
              "      <th>11911</th>\n",
              "      <td>2</td>\n",
              "      <td>1</td>\n",
              "      <td>0</td>\n",
              "      <td>0</td>\n",
              "      <td>0</td>\n",
              "      <td>0</td>\n",
              "      <td>0</td>\n",
              "      <td>0</td>\n",
              "      <td>0.000000</td>\n",
              "    </tr>\n",
              "    <tr>\n",
              "      <th>11912</th>\n",
              "      <td>2</td>\n",
              "      <td>1</td>\n",
              "      <td>0</td>\n",
              "      <td>0</td>\n",
              "      <td>0</td>\n",
              "      <td>0</td>\n",
              "      <td>0</td>\n",
              "      <td>0</td>\n",
              "      <td>0.000000</td>\n",
              "    </tr>\n",
              "  </tbody>\n",
              "</table>\n",
              "<p>11913 rows × 9 columns</p>\n",
              "</div>"
            ]
          },
          "execution_count": 9,
          "metadata": {},
          "output_type": "execute_result"
        }
      ],
      "execution_count": null
    },
    {
      "metadata": {
        "id": "dDF6opQP0JKh"
      },
      "cell_type": "markdown",
      "source": [
        "### Generalizing a score based on high blood pressure syntomatology\n"
      ]
    },
    {
      "metadata": {
        "ExecuteTime": {
          "end_time": "2024-10-25T07:08:34.363859Z",
          "start_time": "2024-10-25T07:08:34.330132Z"
        },
        "id": "Wcxw2tqE0JKh",
        "outputId": "2ebf1228-54b1-47e3-bce1-bb15e3171962"
      },
      "cell_type": "code",
      "source": [
        "datos_hipertension.replace(np.nan, 0)"
      ],
      "outputs": [
        {
          "data": {
            "text/plain": [
              "       a0401  a0402a  a0402m  a0404  a0404a  a0405a  a0405m     a0406  a0406a  \\\n",
              "8          1     1.0     7.0    1.0   500.0     7.0     0.0  0.292683     2.0   \n",
              "10         1     2.0     0.0    1.0     0.0     2.0     0.0  0.292683     2.0   \n",
              "15         1    30.0     0.0    1.0     0.0    30.0     0.0  0.048780     1.0   \n",
              "17         1     8.0     0.0    1.0     0.0     8.0     0.0  0.000000     0.0   \n",
              "33         1     9.0     0.0    1.0     0.0     9.0     0.0  0.195122     2.0   \n",
              "...      ...     ...     ...    ...     ...     ...     ...       ...     ...   \n",
              "11902      1     7.0     0.0    1.0     0.0     7.0     0.0  0.292683     2.0   \n",
              "11904      1     2.0     0.0    1.0   300.0     2.0     0.0  0.073171     2.0   \n",
              "11905      1     2.0     0.0    1.0     0.0     2.0     0.0  0.000000     0.0   \n",
              "11906      1     4.0     0.0    1.0     0.0     4.0     0.0  0.292683     2.0   \n",
              "11912      1     1.0     0.0    1.0     0.0     1.0     0.0  0.146341     1.0   \n",
              "\n",
              "       a0406b  a0407 a0407esp  A0408A  A0408E  a0410ev  a0410fd  a0410fv  \\\n",
              "8       600.0    8.0        0     5.0     0.0      0.0      0.0      0.0   \n",
              "10        0.0    1.0        0     5.0     0.0      0.0      0.0      0.0   \n",
              "15        0.0    1.0        0     5.0     0.0      0.0      0.0      0.0   \n",
              "17        0.0    0.0        0     5.0     0.0      0.0      0.0      0.0   \n",
              "33        0.0    1.0        0     5.0     0.0      0.0      0.0      0.0   \n",
              "...       ...    ...      ...     ...     ...      ...      ...      ...   \n",
              "11902     0.0    2.0        0     5.0     0.0      0.0      0.0      0.0   \n",
              "11904   300.0    8.0        0     5.0     0.0      0.0      0.0      0.0   \n",
              "11905     0.0    0.0        0     5.0     0.0      0.0      0.0      0.0   \n",
              "11906     0.0    4.0        0     5.0     0.0      0.0      0.0      0.0   \n",
              "11912     0.0    1.0        0     5.0     0.0      0.0      0.0      0.0   \n",
              "\n",
              "       Hip_Score  \n",
              "8       0.323171  \n",
              "10      0.323171  \n",
              "15      0.262195  \n",
              "17      0.250000  \n",
              "33      0.298780  \n",
              "...          ...  \n",
              "11902   0.323171  \n",
              "11904   0.268293  \n",
              "11905   0.250000  \n",
              "11906   0.323171  \n",
              "11912   0.286585  \n",
              "\n",
              "[2289 rows x 18 columns]"
            ],
            "text/html": [
              "<div>\n",
              "<style scoped>\n",
              "    .dataframe tbody tr th:only-of-type {\n",
              "        vertical-align: middle;\n",
              "    }\n",
              "\n",
              "    .dataframe tbody tr th {\n",
              "        vertical-align: top;\n",
              "    }\n",
              "\n",
              "    .dataframe thead th {\n",
              "        text-align: right;\n",
              "    }\n",
              "</style>\n",
              "<table border=\"1\" class=\"dataframe\">\n",
              "  <thead>\n",
              "    <tr style=\"text-align: right;\">\n",
              "      <th></th>\n",
              "      <th>a0401</th>\n",
              "      <th>a0402a</th>\n",
              "      <th>a0402m</th>\n",
              "      <th>a0404</th>\n",
              "      <th>a0404a</th>\n",
              "      <th>a0405a</th>\n",
              "      <th>a0405m</th>\n",
              "      <th>a0406</th>\n",
              "      <th>a0406a</th>\n",
              "      <th>a0406b</th>\n",
              "      <th>a0407</th>\n",
              "      <th>a0407esp</th>\n",
              "      <th>A0408A</th>\n",
              "      <th>A0408E</th>\n",
              "      <th>a0410ev</th>\n",
              "      <th>a0410fd</th>\n",
              "      <th>a0410fv</th>\n",
              "      <th>Hip_Score</th>\n",
              "    </tr>\n",
              "  </thead>\n",
              "  <tbody>\n",
              "    <tr>\n",
              "      <th>8</th>\n",
              "      <td>1</td>\n",
              "      <td>1.0</td>\n",
              "      <td>7.0</td>\n",
              "      <td>1.0</td>\n",
              "      <td>500.0</td>\n",
              "      <td>7.0</td>\n",
              "      <td>0.0</td>\n",
              "      <td>0.292683</td>\n",
              "      <td>2.0</td>\n",
              "      <td>600.0</td>\n",
              "      <td>8.0</td>\n",
              "      <td>0</td>\n",
              "      <td>5.0</td>\n",
              "      <td>0.0</td>\n",
              "      <td>0.0</td>\n",
              "      <td>0.0</td>\n",
              "      <td>0.0</td>\n",
              "      <td>0.323171</td>\n",
              "    </tr>\n",
              "    <tr>\n",
              "      <th>10</th>\n",
              "      <td>1</td>\n",
              "      <td>2.0</td>\n",
              "      <td>0.0</td>\n",
              "      <td>1.0</td>\n",
              "      <td>0.0</td>\n",
              "      <td>2.0</td>\n",
              "      <td>0.0</td>\n",
              "      <td>0.292683</td>\n",
              "      <td>2.0</td>\n",
              "      <td>0.0</td>\n",
              "      <td>1.0</td>\n",
              "      <td>0</td>\n",
              "      <td>5.0</td>\n",
              "      <td>0.0</td>\n",
              "      <td>0.0</td>\n",
              "      <td>0.0</td>\n",
              "      <td>0.0</td>\n",
              "      <td>0.323171</td>\n",
              "    </tr>\n",
              "    <tr>\n",
              "      <th>15</th>\n",
              "      <td>1</td>\n",
              "      <td>30.0</td>\n",
              "      <td>0.0</td>\n",
              "      <td>1.0</td>\n",
              "      <td>0.0</td>\n",
              "      <td>30.0</td>\n",
              "      <td>0.0</td>\n",
              "      <td>0.048780</td>\n",
              "      <td>1.0</td>\n",
              "      <td>0.0</td>\n",
              "      <td>1.0</td>\n",
              "      <td>0</td>\n",
              "      <td>5.0</td>\n",
              "      <td>0.0</td>\n",
              "      <td>0.0</td>\n",
              "      <td>0.0</td>\n",
              "      <td>0.0</td>\n",
              "      <td>0.262195</td>\n",
              "    </tr>\n",
              "    <tr>\n",
              "      <th>17</th>\n",
              "      <td>1</td>\n",
              "      <td>8.0</td>\n",
              "      <td>0.0</td>\n",
              "      <td>1.0</td>\n",
              "      <td>0.0</td>\n",
              "      <td>8.0</td>\n",
              "      <td>0.0</td>\n",
              "      <td>0.000000</td>\n",
              "      <td>0.0</td>\n",
              "      <td>0.0</td>\n",
              "      <td>0.0</td>\n",
              "      <td>0</td>\n",
              "      <td>5.0</td>\n",
              "      <td>0.0</td>\n",
              "      <td>0.0</td>\n",
              "      <td>0.0</td>\n",
              "      <td>0.0</td>\n",
              "      <td>0.250000</td>\n",
              "    </tr>\n",
              "    <tr>\n",
              "      <th>33</th>\n",
              "      <td>1</td>\n",
              "      <td>9.0</td>\n",
              "      <td>0.0</td>\n",
              "      <td>1.0</td>\n",
              "      <td>0.0</td>\n",
              "      <td>9.0</td>\n",
              "      <td>0.0</td>\n",
              "      <td>0.195122</td>\n",
              "      <td>2.0</td>\n",
              "      <td>0.0</td>\n",
              "      <td>1.0</td>\n",
              "      <td>0</td>\n",
              "      <td>5.0</td>\n",
              "      <td>0.0</td>\n",
              "      <td>0.0</td>\n",
              "      <td>0.0</td>\n",
              "      <td>0.0</td>\n",
              "      <td>0.298780</td>\n",
              "    </tr>\n",
              "    <tr>\n",
              "      <th>...</th>\n",
              "      <td>...</td>\n",
              "      <td>...</td>\n",
              "      <td>...</td>\n",
              "      <td>...</td>\n",
              "      <td>...</td>\n",
              "      <td>...</td>\n",
              "      <td>...</td>\n",
              "      <td>...</td>\n",
              "      <td>...</td>\n",
              "      <td>...</td>\n",
              "      <td>...</td>\n",
              "      <td>...</td>\n",
              "      <td>...</td>\n",
              "      <td>...</td>\n",
              "      <td>...</td>\n",
              "      <td>...</td>\n",
              "      <td>...</td>\n",
              "      <td>...</td>\n",
              "    </tr>\n",
              "    <tr>\n",
              "      <th>11902</th>\n",
              "      <td>1</td>\n",
              "      <td>7.0</td>\n",
              "      <td>0.0</td>\n",
              "      <td>1.0</td>\n",
              "      <td>0.0</td>\n",
              "      <td>7.0</td>\n",
              "      <td>0.0</td>\n",
              "      <td>0.292683</td>\n",
              "      <td>2.0</td>\n",
              "      <td>0.0</td>\n",
              "      <td>2.0</td>\n",
              "      <td>0</td>\n",
              "      <td>5.0</td>\n",
              "      <td>0.0</td>\n",
              "      <td>0.0</td>\n",
              "      <td>0.0</td>\n",
              "      <td>0.0</td>\n",
              "      <td>0.323171</td>\n",
              "    </tr>\n",
              "    <tr>\n",
              "      <th>11904</th>\n",
              "      <td>1</td>\n",
              "      <td>2.0</td>\n",
              "      <td>0.0</td>\n",
              "      <td>1.0</td>\n",
              "      <td>300.0</td>\n",
              "      <td>2.0</td>\n",
              "      <td>0.0</td>\n",
              "      <td>0.073171</td>\n",
              "      <td>2.0</td>\n",
              "      <td>300.0</td>\n",
              "      <td>8.0</td>\n",
              "      <td>0</td>\n",
              "      <td>5.0</td>\n",
              "      <td>0.0</td>\n",
              "      <td>0.0</td>\n",
              "      <td>0.0</td>\n",
              "      <td>0.0</td>\n",
              "      <td>0.268293</td>\n",
              "    </tr>\n",
              "    <tr>\n",
              "      <th>11905</th>\n",
              "      <td>1</td>\n",
              "      <td>2.0</td>\n",
              "      <td>0.0</td>\n",
              "      <td>1.0</td>\n",
              "      <td>0.0</td>\n",
              "      <td>2.0</td>\n",
              "      <td>0.0</td>\n",
              "      <td>0.000000</td>\n",
              "      <td>0.0</td>\n",
              "      <td>0.0</td>\n",
              "      <td>0.0</td>\n",
              "      <td>0</td>\n",
              "      <td>5.0</td>\n",
              "      <td>0.0</td>\n",
              "      <td>0.0</td>\n",
              "      <td>0.0</td>\n",
              "      <td>0.0</td>\n",
              "      <td>0.250000</td>\n",
              "    </tr>\n",
              "    <tr>\n",
              "      <th>11906</th>\n",
              "      <td>1</td>\n",
              "      <td>4.0</td>\n",
              "      <td>0.0</td>\n",
              "      <td>1.0</td>\n",
              "      <td>0.0</td>\n",
              "      <td>4.0</td>\n",
              "      <td>0.0</td>\n",
              "      <td>0.292683</td>\n",
              "      <td>2.0</td>\n",
              "      <td>0.0</td>\n",
              "      <td>4.0</td>\n",
              "      <td>0</td>\n",
              "      <td>5.0</td>\n",
              "      <td>0.0</td>\n",
              "      <td>0.0</td>\n",
              "      <td>0.0</td>\n",
              "      <td>0.0</td>\n",
              "      <td>0.323171</td>\n",
              "    </tr>\n",
              "    <tr>\n",
              "      <th>11912</th>\n",
              "      <td>1</td>\n",
              "      <td>1.0</td>\n",
              "      <td>0.0</td>\n",
              "      <td>1.0</td>\n",
              "      <td>0.0</td>\n",
              "      <td>1.0</td>\n",
              "      <td>0.0</td>\n",
              "      <td>0.146341</td>\n",
              "      <td>1.0</td>\n",
              "      <td>0.0</td>\n",
              "      <td>1.0</td>\n",
              "      <td>0</td>\n",
              "      <td>5.0</td>\n",
              "      <td>0.0</td>\n",
              "      <td>0.0</td>\n",
              "      <td>0.0</td>\n",
              "      <td>0.0</td>\n",
              "      <td>0.286585</td>\n",
              "    </tr>\n",
              "  </tbody>\n",
              "</table>\n",
              "<p>2289 rows × 18 columns</p>\n",
              "</div>"
            ]
          },
          "execution_count": 10,
          "metadata": {},
          "output_type": "execute_result"
        }
      ],
      "execution_count": null
    },
    {
      "metadata": {
        "ExecuteTime": {
          "end_time": "2024-10-25T07:08:34.438293Z",
          "start_time": "2024-10-25T07:08:34.365869Z"
        },
        "id": "BWqWlLma0JKi",
        "outputId": "de70f259-2c91-413b-f1e5-66a5801dbb4a"
      },
      "cell_type": "code",
      "source": [
        "# Calculo del \"Score\" de Hipertension\n",
        "\n",
        "# Calculamos el \"Score\" como una suma (transformacion lineal) de las respuestas\n",
        "# 'a0404' + 'a0406' (MaxAbs) + 2 * 'a0410ev' (MaxAbs)\n",
        "\n",
        "# Primero, obtenemos el maximo de la columna 'a0406'\n",
        "# Dado que existe la respuesta 99 como opcion especial, procedemos a quitarla\n",
        "# antes de realizar la transformacion\n",
        "\n",
        "datos_hipertension.replace(np.nan, 0, inplace = True)\n",
        "datos_hipertension = datos_hipertension[datos[\"a0406\"] < 99]\n",
        "max1 = datos_hipertension[\"a0406\"].max()\n",
        "\n",
        "# Aplicamos el MaxAbs sobre la columna\n",
        "\n",
        "datos_hipertension[\"a0406\"] = datos_hipertension[\"a0406\"] / max1\n",
        "\n",
        "# Segundo, obtenemos el maximo de la columna 'a0410ev'\n",
        "# Esta columna NO tiene opciones especiales\n",
        "\n",
        "max2 = datos_hipertension[\"a0410ev\"].max()\n",
        "\n",
        "# Aplicamos el MaxAbs sobre la columna\n",
        "\n",
        "datos_hipertension[\"a0410ev\"] = datos_hipertension[\"a0410ev\"] / max2\n",
        "\n",
        "# Calculamos el \"Score\" como la combinacion lineal mencionada\n",
        "\n",
        "datos_hipertension[\"Hip_Score\"] = datos_hipertension[\"a0404\"] + datos_hipertension[\"a0406\"] + 2 * datos_hipertension[\"a0410ev\"]\n",
        "\n",
        "# Realizamos una conversion a % dividiendo sobre el maximo\n",
        "\n",
        "datos_hipertension[\"Hip_Score\"] = datos_hipertension[\"Hip_Score\"] / 4\n",
        "\n",
        "datos_hipertension"
      ],
      "outputs": [
        {
          "name": "stderr",
          "output_type": "stream",
          "text": [
            "C:\\Users\\tiago\\AppData\\Local\\Temp\\ipykernel_24588\\2586225781.py:11: UserWarning: Boolean Series key will be reindexed to match DataFrame index.\n",
            "  datos_hipertension = datos_hipertension[datos[\"a0406\"] < 99]\n"
          ]
        },
        {
          "data": {
            "text/plain": [
              "       a0401  a0402a  a0402m  a0404  a0404a  a0405a  a0405m     a0406  a0406a  \\\n",
              "8          1     1.0     7.0    1.0   500.0     7.0     0.0  0.292683     2.0   \n",
              "10         1     2.0     0.0    1.0     0.0     2.0     0.0  0.292683     2.0   \n",
              "15         1    30.0     0.0    1.0     0.0    30.0     0.0  0.048780     1.0   \n",
              "17         1     8.0     0.0    1.0     0.0     8.0     0.0  0.000000     0.0   \n",
              "33         1     9.0     0.0    1.0     0.0     9.0     0.0  0.195122     2.0   \n",
              "...      ...     ...     ...    ...     ...     ...     ...       ...     ...   \n",
              "11902      1     7.0     0.0    1.0     0.0     7.0     0.0  0.292683     2.0   \n",
              "11904      1     2.0     0.0    1.0   300.0     2.0     0.0  0.073171     2.0   \n",
              "11905      1     2.0     0.0    1.0     0.0     2.0     0.0  0.000000     0.0   \n",
              "11906      1     4.0     0.0    1.0     0.0     4.0     0.0  0.292683     2.0   \n",
              "11912      1     1.0     0.0    1.0     0.0     1.0     0.0  0.146341     1.0   \n",
              "\n",
              "       a0406b  a0407 a0407esp  A0408A  A0408E  a0410ev  a0410fd  a0410fv  \\\n",
              "8       600.0    8.0        0     5.0     0.0      0.0      0.0      0.0   \n",
              "10        0.0    1.0        0     5.0     0.0      0.0      0.0      0.0   \n",
              "15        0.0    1.0        0     5.0     0.0      0.0      0.0      0.0   \n",
              "17        0.0    0.0        0     5.0     0.0      0.0      0.0      0.0   \n",
              "33        0.0    1.0        0     5.0     0.0      0.0      0.0      0.0   \n",
              "...       ...    ...      ...     ...     ...      ...      ...      ...   \n",
              "11902     0.0    2.0        0     5.0     0.0      0.0      0.0      0.0   \n",
              "11904   300.0    8.0        0     5.0     0.0      0.0      0.0      0.0   \n",
              "11905     0.0    0.0        0     5.0     0.0      0.0      0.0      0.0   \n",
              "11906     0.0    4.0        0     5.0     0.0      0.0      0.0      0.0   \n",
              "11912     0.0    1.0        0     5.0     0.0      0.0      0.0      0.0   \n",
              "\n",
              "       Hip_Score  \n",
              "8       0.323171  \n",
              "10      0.323171  \n",
              "15      0.262195  \n",
              "17      0.250000  \n",
              "33      0.298780  \n",
              "...          ...  \n",
              "11902   0.323171  \n",
              "11904   0.268293  \n",
              "11905   0.250000  \n",
              "11906   0.323171  \n",
              "11912   0.286585  \n",
              "\n",
              "[2289 rows x 18 columns]"
            ],
            "text/html": [
              "<div>\n",
              "<style scoped>\n",
              "    .dataframe tbody tr th:only-of-type {\n",
              "        vertical-align: middle;\n",
              "    }\n",
              "\n",
              "    .dataframe tbody tr th {\n",
              "        vertical-align: top;\n",
              "    }\n",
              "\n",
              "    .dataframe thead th {\n",
              "        text-align: right;\n",
              "    }\n",
              "</style>\n",
              "<table border=\"1\" class=\"dataframe\">\n",
              "  <thead>\n",
              "    <tr style=\"text-align: right;\">\n",
              "      <th></th>\n",
              "      <th>a0401</th>\n",
              "      <th>a0402a</th>\n",
              "      <th>a0402m</th>\n",
              "      <th>a0404</th>\n",
              "      <th>a0404a</th>\n",
              "      <th>a0405a</th>\n",
              "      <th>a0405m</th>\n",
              "      <th>a0406</th>\n",
              "      <th>a0406a</th>\n",
              "      <th>a0406b</th>\n",
              "      <th>a0407</th>\n",
              "      <th>a0407esp</th>\n",
              "      <th>A0408A</th>\n",
              "      <th>A0408E</th>\n",
              "      <th>a0410ev</th>\n",
              "      <th>a0410fd</th>\n",
              "      <th>a0410fv</th>\n",
              "      <th>Hip_Score</th>\n",
              "    </tr>\n",
              "  </thead>\n",
              "  <tbody>\n",
              "    <tr>\n",
              "      <th>8</th>\n",
              "      <td>1</td>\n",
              "      <td>1.0</td>\n",
              "      <td>7.0</td>\n",
              "      <td>1.0</td>\n",
              "      <td>500.0</td>\n",
              "      <td>7.0</td>\n",
              "      <td>0.0</td>\n",
              "      <td>0.292683</td>\n",
              "      <td>2.0</td>\n",
              "      <td>600.0</td>\n",
              "      <td>8.0</td>\n",
              "      <td>0</td>\n",
              "      <td>5.0</td>\n",
              "      <td>0.0</td>\n",
              "      <td>0.0</td>\n",
              "      <td>0.0</td>\n",
              "      <td>0.0</td>\n",
              "      <td>0.323171</td>\n",
              "    </tr>\n",
              "    <tr>\n",
              "      <th>10</th>\n",
              "      <td>1</td>\n",
              "      <td>2.0</td>\n",
              "      <td>0.0</td>\n",
              "      <td>1.0</td>\n",
              "      <td>0.0</td>\n",
              "      <td>2.0</td>\n",
              "      <td>0.0</td>\n",
              "      <td>0.292683</td>\n",
              "      <td>2.0</td>\n",
              "      <td>0.0</td>\n",
              "      <td>1.0</td>\n",
              "      <td>0</td>\n",
              "      <td>5.0</td>\n",
              "      <td>0.0</td>\n",
              "      <td>0.0</td>\n",
              "      <td>0.0</td>\n",
              "      <td>0.0</td>\n",
              "      <td>0.323171</td>\n",
              "    </tr>\n",
              "    <tr>\n",
              "      <th>15</th>\n",
              "      <td>1</td>\n",
              "      <td>30.0</td>\n",
              "      <td>0.0</td>\n",
              "      <td>1.0</td>\n",
              "      <td>0.0</td>\n",
              "      <td>30.0</td>\n",
              "      <td>0.0</td>\n",
              "      <td>0.048780</td>\n",
              "      <td>1.0</td>\n",
              "      <td>0.0</td>\n",
              "      <td>1.0</td>\n",
              "      <td>0</td>\n",
              "      <td>5.0</td>\n",
              "      <td>0.0</td>\n",
              "      <td>0.0</td>\n",
              "      <td>0.0</td>\n",
              "      <td>0.0</td>\n",
              "      <td>0.262195</td>\n",
              "    </tr>\n",
              "    <tr>\n",
              "      <th>17</th>\n",
              "      <td>1</td>\n",
              "      <td>8.0</td>\n",
              "      <td>0.0</td>\n",
              "      <td>1.0</td>\n",
              "      <td>0.0</td>\n",
              "      <td>8.0</td>\n",
              "      <td>0.0</td>\n",
              "      <td>0.000000</td>\n",
              "      <td>0.0</td>\n",
              "      <td>0.0</td>\n",
              "      <td>0.0</td>\n",
              "      <td>0</td>\n",
              "      <td>5.0</td>\n",
              "      <td>0.0</td>\n",
              "      <td>0.0</td>\n",
              "      <td>0.0</td>\n",
              "      <td>0.0</td>\n",
              "      <td>0.250000</td>\n",
              "    </tr>\n",
              "    <tr>\n",
              "      <th>33</th>\n",
              "      <td>1</td>\n",
              "      <td>9.0</td>\n",
              "      <td>0.0</td>\n",
              "      <td>1.0</td>\n",
              "      <td>0.0</td>\n",
              "      <td>9.0</td>\n",
              "      <td>0.0</td>\n",
              "      <td>0.195122</td>\n",
              "      <td>2.0</td>\n",
              "      <td>0.0</td>\n",
              "      <td>1.0</td>\n",
              "      <td>0</td>\n",
              "      <td>5.0</td>\n",
              "      <td>0.0</td>\n",
              "      <td>0.0</td>\n",
              "      <td>0.0</td>\n",
              "      <td>0.0</td>\n",
              "      <td>0.298780</td>\n",
              "    </tr>\n",
              "    <tr>\n",
              "      <th>...</th>\n",
              "      <td>...</td>\n",
              "      <td>...</td>\n",
              "      <td>...</td>\n",
              "      <td>...</td>\n",
              "      <td>...</td>\n",
              "      <td>...</td>\n",
              "      <td>...</td>\n",
              "      <td>...</td>\n",
              "      <td>...</td>\n",
              "      <td>...</td>\n",
              "      <td>...</td>\n",
              "      <td>...</td>\n",
              "      <td>...</td>\n",
              "      <td>...</td>\n",
              "      <td>...</td>\n",
              "      <td>...</td>\n",
              "      <td>...</td>\n",
              "      <td>...</td>\n",
              "    </tr>\n",
              "    <tr>\n",
              "      <th>11902</th>\n",
              "      <td>1</td>\n",
              "      <td>7.0</td>\n",
              "      <td>0.0</td>\n",
              "      <td>1.0</td>\n",
              "      <td>0.0</td>\n",
              "      <td>7.0</td>\n",
              "      <td>0.0</td>\n",
              "      <td>0.292683</td>\n",
              "      <td>2.0</td>\n",
              "      <td>0.0</td>\n",
              "      <td>2.0</td>\n",
              "      <td>0</td>\n",
              "      <td>5.0</td>\n",
              "      <td>0.0</td>\n",
              "      <td>0.0</td>\n",
              "      <td>0.0</td>\n",
              "      <td>0.0</td>\n",
              "      <td>0.323171</td>\n",
              "    </tr>\n",
              "    <tr>\n",
              "      <th>11904</th>\n",
              "      <td>1</td>\n",
              "      <td>2.0</td>\n",
              "      <td>0.0</td>\n",
              "      <td>1.0</td>\n",
              "      <td>300.0</td>\n",
              "      <td>2.0</td>\n",
              "      <td>0.0</td>\n",
              "      <td>0.073171</td>\n",
              "      <td>2.0</td>\n",
              "      <td>300.0</td>\n",
              "      <td>8.0</td>\n",
              "      <td>0</td>\n",
              "      <td>5.0</td>\n",
              "      <td>0.0</td>\n",
              "      <td>0.0</td>\n",
              "      <td>0.0</td>\n",
              "      <td>0.0</td>\n",
              "      <td>0.268293</td>\n",
              "    </tr>\n",
              "    <tr>\n",
              "      <th>11905</th>\n",
              "      <td>1</td>\n",
              "      <td>2.0</td>\n",
              "      <td>0.0</td>\n",
              "      <td>1.0</td>\n",
              "      <td>0.0</td>\n",
              "      <td>2.0</td>\n",
              "      <td>0.0</td>\n",
              "      <td>0.000000</td>\n",
              "      <td>0.0</td>\n",
              "      <td>0.0</td>\n",
              "      <td>0.0</td>\n",
              "      <td>0</td>\n",
              "      <td>5.0</td>\n",
              "      <td>0.0</td>\n",
              "      <td>0.0</td>\n",
              "      <td>0.0</td>\n",
              "      <td>0.0</td>\n",
              "      <td>0.250000</td>\n",
              "    </tr>\n",
              "    <tr>\n",
              "      <th>11906</th>\n",
              "      <td>1</td>\n",
              "      <td>4.0</td>\n",
              "      <td>0.0</td>\n",
              "      <td>1.0</td>\n",
              "      <td>0.0</td>\n",
              "      <td>4.0</td>\n",
              "      <td>0.0</td>\n",
              "      <td>0.292683</td>\n",
              "      <td>2.0</td>\n",
              "      <td>0.0</td>\n",
              "      <td>4.0</td>\n",
              "      <td>0</td>\n",
              "      <td>5.0</td>\n",
              "      <td>0.0</td>\n",
              "      <td>0.0</td>\n",
              "      <td>0.0</td>\n",
              "      <td>0.0</td>\n",
              "      <td>0.323171</td>\n",
              "    </tr>\n",
              "    <tr>\n",
              "      <th>11912</th>\n",
              "      <td>1</td>\n",
              "      <td>1.0</td>\n",
              "      <td>0.0</td>\n",
              "      <td>1.0</td>\n",
              "      <td>0.0</td>\n",
              "      <td>1.0</td>\n",
              "      <td>0.0</td>\n",
              "      <td>0.146341</td>\n",
              "      <td>1.0</td>\n",
              "      <td>0.0</td>\n",
              "      <td>1.0</td>\n",
              "      <td>0</td>\n",
              "      <td>5.0</td>\n",
              "      <td>0.0</td>\n",
              "      <td>0.0</td>\n",
              "      <td>0.0</td>\n",
              "      <td>0.0</td>\n",
              "      <td>0.286585</td>\n",
              "    </tr>\n",
              "  </tbody>\n",
              "</table>\n",
              "<p>2289 rows × 18 columns</p>\n",
              "</div>"
            ]
          },
          "execution_count": 11,
          "metadata": {},
          "output_type": "execute_result"
        }
      ],
      "execution_count": null
    },
    {
      "metadata": {
        "id": "7DTI0Fx30JKj"
      },
      "cell_type": "markdown",
      "source": [
        "### Generalizing a score based on heart condition symptomatology.\n",
        "\n",
        "---\n",
        "\n"
      ]
    },
    {
      "metadata": {
        "ExecuteTime": {
          "end_time": "2024-10-25T07:08:34.460691Z",
          "start_time": "2024-10-25T07:08:34.441308Z"
        },
        "id": "vsbXc9DW0JKk",
        "outputId": "0e4fb10c-bd5e-4db6-f8f4-a747c5962bd3"
      },
      "cell_type": "code",
      "source": [
        "# Calculamos el \"Score\" de enfermedades Cardiacas\n",
        "\n",
        "# Calculamos el \"Score\" como una transformación lineal de las respuestas:\n",
        "# 5 * \"a0502a\" + \"a0502b\" + 3 * \"a0502c\" + 4 \"a0502d\"\n",
        "\n",
        "clst = [\"a0502a\", \"a0502b\", \"a0502c\", \"a0502d\"]\n",
        "\n",
        "for column in clst:\n",
        "    datos_enfermedad_cardiaca[column] = 2 - datos_enfermedad_cardiaca[column]\n",
        "\n",
        "# Calculamos el \"Score\" como la combinacion lineal mencionada\n",
        "\n",
        "datos_enfermedad_cardiaca[\"Car_Score\"] = 5 * datos_enfermedad_cardiaca[\"a0502a\"] + datos_enfermedad_cardiaca[\"a0502b\"] + 3 * datos_enfermedad_cardiaca[\"a0502c\"] + 4 * datos_enfermedad_cardiaca[\"a0502d\"]\n",
        "\n",
        "# Realizamos una conversion a % dividiendo sobre el maximo\n",
        "\n",
        "datos_enfermedad_cardiaca[\"Car_Score\"] = datos_enfermedad_cardiaca[\"Car_Score\"] / 13\n",
        "\n",
        "datos_enfermedad_cardiaca"
      ],
      "outputs": [
        {
          "data": {
            "text/plain": [
              "       a0502a  a0502b  a0502c  a0502d  Car_Score\n",
              "0           0       0       0       0        0.0\n",
              "1           0       0       0       0        0.0\n",
              "2           0       0       0       0        0.0\n",
              "3           0       0       0       0        0.0\n",
              "4           0       0       0       0        0.0\n",
              "...       ...     ...     ...     ...        ...\n",
              "11908       0       0       0       0        0.0\n",
              "11909       0       0       0       0        0.0\n",
              "11910       0       0       0       0        0.0\n",
              "11911       0       0       0       0        0.0\n",
              "11912       0       0       0       0        0.0\n",
              "\n",
              "[11913 rows x 5 columns]"
            ],
            "text/html": [
              "<div>\n",
              "<style scoped>\n",
              "    .dataframe tbody tr th:only-of-type {\n",
              "        vertical-align: middle;\n",
              "    }\n",
              "\n",
              "    .dataframe tbody tr th {\n",
              "        vertical-align: top;\n",
              "    }\n",
              "\n",
              "    .dataframe thead th {\n",
              "        text-align: right;\n",
              "    }\n",
              "</style>\n",
              "<table border=\"1\" class=\"dataframe\">\n",
              "  <thead>\n",
              "    <tr style=\"text-align: right;\">\n",
              "      <th></th>\n",
              "      <th>a0502a</th>\n",
              "      <th>a0502b</th>\n",
              "      <th>a0502c</th>\n",
              "      <th>a0502d</th>\n",
              "      <th>Car_Score</th>\n",
              "    </tr>\n",
              "  </thead>\n",
              "  <tbody>\n",
              "    <tr>\n",
              "      <th>0</th>\n",
              "      <td>0</td>\n",
              "      <td>0</td>\n",
              "      <td>0</td>\n",
              "      <td>0</td>\n",
              "      <td>0.0</td>\n",
              "    </tr>\n",
              "    <tr>\n",
              "      <th>1</th>\n",
              "      <td>0</td>\n",
              "      <td>0</td>\n",
              "      <td>0</td>\n",
              "      <td>0</td>\n",
              "      <td>0.0</td>\n",
              "    </tr>\n",
              "    <tr>\n",
              "      <th>2</th>\n",
              "      <td>0</td>\n",
              "      <td>0</td>\n",
              "      <td>0</td>\n",
              "      <td>0</td>\n",
              "      <td>0.0</td>\n",
              "    </tr>\n",
              "    <tr>\n",
              "      <th>3</th>\n",
              "      <td>0</td>\n",
              "      <td>0</td>\n",
              "      <td>0</td>\n",
              "      <td>0</td>\n",
              "      <td>0.0</td>\n",
              "    </tr>\n",
              "    <tr>\n",
              "      <th>4</th>\n",
              "      <td>0</td>\n",
              "      <td>0</td>\n",
              "      <td>0</td>\n",
              "      <td>0</td>\n",
              "      <td>0.0</td>\n",
              "    </tr>\n",
              "    <tr>\n",
              "      <th>...</th>\n",
              "      <td>...</td>\n",
              "      <td>...</td>\n",
              "      <td>...</td>\n",
              "      <td>...</td>\n",
              "      <td>...</td>\n",
              "    </tr>\n",
              "    <tr>\n",
              "      <th>11908</th>\n",
              "      <td>0</td>\n",
              "      <td>0</td>\n",
              "      <td>0</td>\n",
              "      <td>0</td>\n",
              "      <td>0.0</td>\n",
              "    </tr>\n",
              "    <tr>\n",
              "      <th>11909</th>\n",
              "      <td>0</td>\n",
              "      <td>0</td>\n",
              "      <td>0</td>\n",
              "      <td>0</td>\n",
              "      <td>0.0</td>\n",
              "    </tr>\n",
              "    <tr>\n",
              "      <th>11910</th>\n",
              "      <td>0</td>\n",
              "      <td>0</td>\n",
              "      <td>0</td>\n",
              "      <td>0</td>\n",
              "      <td>0.0</td>\n",
              "    </tr>\n",
              "    <tr>\n",
              "      <th>11911</th>\n",
              "      <td>0</td>\n",
              "      <td>0</td>\n",
              "      <td>0</td>\n",
              "      <td>0</td>\n",
              "      <td>0.0</td>\n",
              "    </tr>\n",
              "    <tr>\n",
              "      <th>11912</th>\n",
              "      <td>0</td>\n",
              "      <td>0</td>\n",
              "      <td>0</td>\n",
              "      <td>0</td>\n",
              "      <td>0.0</td>\n",
              "    </tr>\n",
              "  </tbody>\n",
              "</table>\n",
              "<p>11913 rows × 5 columns</p>\n",
              "</div>"
            ]
          },
          "execution_count": 12,
          "metadata": {},
          "output_type": "execute_result"
        }
      ],
      "execution_count": null
    },
    {
      "metadata": {
        "id": "ZqCDn2Qu0JKk"
      },
      "cell_type": "markdown",
      "source": [
        "## Chi-squared Test\n",
        "\n",
        "\n",
        "Data to relate:\n",
        "  - Depression diagnosis (a0202) with:\n",
        "    - Heart attack diagnosis (a0502a)\n",
        "    - Angina pectoris diagnodis (a0502b)\n",
        "    - Cardiac insuficiency diagnosis (a0502c)\n",
        "    - Embolism diagnosis (a0205d)\n",
        "    - High blood pressure diagnosis (a0401)\n"
      ]
    },
    {
      "metadata": {
        "id": "ACqrdLzX0JKl"
      },
      "cell_type": "markdown",
      "source": [
        "Previo a las pruebas, necesitamos limpiar una de las variables para reducirle una dimension:\n",
        "Prior to testing, we'll need to clean one of the variables to reduce one dimension."
      ]
    },
    {
      "metadata": {
        "ExecuteTime": {
          "end_time": "2024-10-25T07:08:34.471805Z",
          "start_time": "2024-10-25T07:08:34.462701Z"
        },
        "id": "A243uB4S0JKl",
        "outputId": "e3240699-7f17-4556-996c-6c591107b73e"
      },
      "cell_type": "code",
      "source": [
        "datos_hipertension[\"Hip_Score\"].unique()"
      ],
      "outputs": [
        {
          "data": {
            "text/plain": [
              "array([0.32317073, 0.26219512, 0.25      , 0.29878049, 0.52439024,\n",
              "       0.2804878 , 0.26829268, 0.25609756, 0.32439024, 0.28658537,\n",
              "       0.47317073, 0.30487805, 0.51219512, 0.31707317, 0.27439024,\n",
              "       0.62195122, 0.41219512, 0.42439024, 0.57317073, 0.43658537,\n",
              "       0.5       , 0.39146341, 0.50609756, 0.31097561, 0.36707317,\n",
              "       0.35      , 0.42317073, 0.3304878 , 0.30609756, 0.37317073,\n",
              "       0.41707317, 0.57317073, 0.33658537, 0.45487805, 0.51829268,\n",
              "       0.31829268, 0.56829268, 0.31219512, 0.65      , 0.3       ,\n",
              "       0.55      , 0.55487805, 0.51707317, 0.29268293, 0.34268293,\n",
              "       0.46829268, 0.54268293, 0.68658537, 0.46097561, 0.44512195,\n",
              "       0.55609756, 0.34146341, 0.38658537, 0.54878049, 0.53658537,\n",
              "       0.36829268, 0.6195122 , 0.41829268, 0.36219512, 0.36097561,\n",
              "       0.5804878 , 0.37439024, 0.39634146, 0.37195122, 0.3597561 ,\n",
              "       0.5304878 , 0.4       , 0.33536585, 0.62317073, 0.41097561,\n",
              "       0.56707317, 0.35487805, 0.56097561, 0.34878049, 0.81097561,\n",
              "       0.39878049, 0.43292683, 0.51097561, 0.32926829, 0.42682927,\n",
              "       0.65243902, 0.69634146])"
            ]
          },
          "execution_count": 13,
          "metadata": {},
          "output_type": "execute_result"
        }
      ],
      "execution_count": null
    },
    {
      "metadata": {
        "id": "GlqOfDrY0JKm"
      },
      "cell_type": "markdown",
      "source": [
        "This is the high blood pressure diagnosis variable, in the questionaire, there are three possible answers \"yes\", \"yes during pregnancy\", \"no\". To reduce one dimension, we'll add the \"yes\" and \"yes during pregnancy\" together, since its not normal for pregnant women to have high blood pressure constantly."
      ]
    },
    {
      "cell_type": "code",
      "source": [
        "datos_hipertension[\"a0401\"] = datos_hipertension[\"a0401\"].mask(datos_hipertension[\"a0401\"] == 2, 1)"
      ],
      "metadata": {
        "id": "wcgokNSGQmNT",
        "ExecuteTime": {
          "end_time": "2024-10-25T07:08:34.482553Z",
          "start_time": "2024-10-25T07:08:34.473815Z"
        }
      },
      "outputs": [],
      "execution_count": null
    },
    {
      "cell_type": "markdown",
      "source": [
        "We can now proceed with the rest of the test..."
      ],
      "metadata": {
        "id": "l4p_FrSsRrtl"
      }
    },
    {
      "metadata": {
        "ExecuteTime": {
          "end_time": "2024-10-25T07:08:34.491232Z",
          "start_time": "2024-10-25T07:08:34.485563Z"
        },
        "id": "F2CsdUJ30JKn"
      },
      "cell_type": "code",
      "source": [
        "# Funcion para tabla de contingencia\n",
        "def contingencia(col1, col2):\n",
        "  tab = pd.crosstab(col1, col2)\n",
        "  return tab"
      ],
      "outputs": [],
      "execution_count": null
    },
    {
      "cell_type": "markdown",
      "source": [
        "Test one: Depression diagnosis with heart attack diagnosis"
      ],
      "metadata": {
        "id": "mO1z4u2iBvdj"
      }
    },
    {
      "cell_type": "code",
      "source": [
        "# Prueba 1: depresion con ataque al corazon\n",
        "tabla_prueba_1 = contingencia(datos_depresion[\"a0202\"], datos_enfermedad_cardiaca[\"a0502a\"])\n",
        "\n",
        "estadistico_prueba_1, p_prueba_1, dof_prueba_1, expected_prueba_1 = chi2_contingency(tabla_prueba_1)\n",
        "print(estadistico_prueba_1)\n",
        "print(p_prueba_1)\n",
        "print(dof_prueba_1)\n",
        "print(expected_prueba_1)"
      ],
      "metadata": {
        "colab": {
          "base_uri": "https://localhost:8080/"
        },
        "id": "w3PtiBBSG6JE",
        "outputId": "414523e9-5901-4c52-bc22-50f68748ada2",
        "ExecuteTime": {
          "end_time": "2024-10-25T07:08:34.662765Z",
          "start_time": "2024-10-25T07:08:34.494246Z"
        }
      },
      "outputs": [
        {
          "name": "stdout",
          "output_type": "stream",
          "text": [
            "19.551400689211757\n",
            "9.792890933523373e-06\n",
            "1\n",
            "[[ 1412.70729455    29.29270545]\n",
            " [10258.29270545   212.70729455]]\n"
          ]
        }
      ],
      "execution_count": null
    },
    {
      "cell_type": "markdown",
      "source": [
        "Test two: Depression diagnosis with angina pectoris diagnosis"
      ],
      "metadata": {
        "id": "M4Mg8FIEBzcp"
      }
    },
    {
      "cell_type": "code",
      "source": [
        "# Prueba 2: depresion con angina de pecho\n",
        "tabla_prueba_2 = contingencia(datos_depresion[\"a0202\"], datos_enfermedad_cardiaca[\"a0502b\"])\n",
        "\n",
        "estadistico_prueba_2, p_prueba_2, dof_prueba_2, expected_prueba_2 = chi2_contingency(tabla_prueba_2)\n",
        "print(estadistico_prueba_2)\n",
        "print(p_prueba_2)\n",
        "print(dof_prueba_2)\n",
        "print(expected_prueba_2)"
      ],
      "metadata": {
        "colab": {
          "base_uri": "https://localhost:8080/"
        },
        "id": "9XgpbhZCNRUE",
        "outputId": "6b10f05d-532c-4933-c152-337a40241a5c",
        "ExecuteTime": {
          "end_time": "2024-10-25T07:08:34.688386Z",
          "start_time": "2024-10-25T07:08:34.665775Z"
        }
      },
      "outputs": [
        {
          "name": "stdout",
          "output_type": "stream",
          "text": [
            "10.030386114484928\n",
            "0.0015397875641828505\n",
            "1\n",
            "[[ 1415.61235625    26.38764375]\n",
            " [10279.38764375   191.61235625]]\n"
          ]
        }
      ],
      "execution_count": null
    },
    {
      "cell_type": "markdown",
      "source": [
        "Test three: Depression diagnosis with cardiac insuficiency diagnosis"
      ],
      "metadata": {
        "id": "cqqO8V3TB3zm"
      }
    },
    {
      "cell_type": "code",
      "source": [
        "# Prueba 3: depresion con insuficiencia cardiaca\n",
        "tabla_prueba_3 = contingencia(datos_depresion[\"a0202\"], datos_enfermedad_cardiaca[\"a0502c\"])\n",
        "\n",
        "estadistico_prueba_3, p_prueba_3, dof_prueba_3, expected_prueba_3 = chi2_contingency(tabla_prueba_3)\n",
        "print(estadistico_prueba_3)\n",
        "print(p_prueba_3)\n",
        "print(dof_prueba_3)\n",
        "print(expected_prueba_3)"
      ],
      "metadata": {
        "colab": {
          "base_uri": "https://localhost:8080/"
        },
        "id": "9iovc_GVNkSS",
        "outputId": "835a6e50-a045-4fb4-9a18-5910b2f7fdca",
        "ExecuteTime": {
          "end_time": "2024-10-25T07:08:34.714390Z",
          "start_time": "2024-10-25T07:08:34.692400Z"
        }
      },
      "outputs": [
        {
          "name": "stdout",
          "output_type": "stream",
          "text": [
            "48.726192231195526\n",
            "2.9430958408617285e-12\n",
            "1\n",
            "[[ 1415.73340049    26.26659951]\n",
            " [10280.26659951   190.73340049]]\n"
          ]
        }
      ],
      "execution_count": null
    },
    {
      "cell_type": "markdown",
      "source": [
        "Test four: Depression diagnosis with embolism diagnosis"
      ],
      "metadata": {
        "id": "5jSrXjWRB7OR"
      }
    },
    {
      "cell_type": "code",
      "source": [
        "# Prueba 4: depresion con embolia\n",
        "tabla_prueba_4 = contingencia(datos_depresion[\"a0202\"], datos_enfermedad_cardiaca[\"a0502d\"])\n",
        "\n",
        "estadistico_prueba_4, p_prueba_4, dof_prueba_4, expected_prueba_4 = chi2_contingency(tabla_prueba_4)\n",
        "print(estadistico_prueba_4)\n",
        "print(p_prueba_4)\n",
        "print(dof_prueba_4)\n",
        "print(expected_prueba_4)"
      ],
      "metadata": {
        "colab": {
          "base_uri": "https://localhost:8080/"
        },
        "id": "9NQx9LqCN5Ww",
        "outputId": "386452a1-6eb9-47d6-9184-50686d397325",
        "ExecuteTime": {
          "end_time": "2024-10-25T07:08:34.739094Z",
          "start_time": "2024-10-25T07:08:34.717403Z"
        }
      },
      "outputs": [
        {
          "name": "stdout",
          "output_type": "stream",
          "text": [
            "3.491985736612559\n",
            "0.0616665736275292\n",
            "1\n",
            "[[ 1426.38529338    15.61470662]\n",
            " [10357.61470662   113.38529338]]\n"
          ]
        }
      ],
      "execution_count": null
    },
    {
      "cell_type": "markdown",
      "source": [
        "Test five: Depression diagnosis with high blood pressure diagnosis"
      ],
      "metadata": {
        "id": "h0EmyGVHB-u5"
      }
    },
    {
      "cell_type": "code",
      "source": [
        "# Prueba 5: depresion con hipertension\n",
        "tabla_prueba_5 = contingencia(datos_depresion[\"a0202\"], datos[\"a0401\"])\n",
        "\n",
        "estadistico_prueba_5, p_prueba_5, dof_prueba_5, expected_prueba_5 = chi2_contingency(tabla_prueba_5)\n",
        "\n",
        "print(estadistico_prueba_5)\n",
        "print(p_prueba_5)\n",
        "print(dof_prueba_5)\n",
        "print(expected_prueba_5)"
      ],
      "metadata": {
        "colab": {
          "base_uri": "https://localhost:8080/"
        },
        "id": "1u_VkoJ5OTe_",
        "outputId": "15f69e31-a003-4283-a644-a569f5cc8f8e",
        "ExecuteTime": {
          "end_time": "2024-10-25T07:08:34.766394Z",
          "start_time": "2024-10-25T07:08:34.743119Z"
        }
      },
      "outputs": [
        {
          "name": "stdout",
          "output_type": "stream",
          "text": [
            "189.19110000944534\n",
            "8.273220898826382e-42\n",
            "2\n",
            "[[2.73681021e+02 3.51028288e+00 1.16480870e+03]\n",
            " [1.98731898e+03 2.54897171e+01 8.45819130e+03]]\n"
          ]
        }
      ],
      "execution_count": null
    },
    {
      "cell_type": "code",
      "source": [
        "datos['a0401'].unique()"
      ],
      "metadata": {
        "colab": {
          "base_uri": "https://localhost:8080/"
        },
        "id": "LYSMrIUoIcOj",
        "outputId": "4c0a2f15-8698-4a21-8a2e-05b24843eb6b",
        "ExecuteTime": {
          "end_time": "2024-10-25T07:08:34.780495Z",
          "start_time": "2024-10-25T07:08:34.770409Z"
        }
      },
      "outputs": [
        {
          "data": {
            "text/plain": [
              "array([3, 1, 2], dtype=int64)"
            ]
          },
          "execution_count": 21,
          "metadata": {},
          "output_type": "execute_result"
        }
      ],
      "execution_count": null
    },
    {
      "cell_type": "markdown",
      "source": [
        "## Visualization"
      ],
      "metadata": {
        "id": "FMLQSDyMPDEu"
      }
    },
    {
      "metadata": {
        "id": "FrsC4dJ80JKt"
      },
      "cell_type": "markdown",
      "source": [
        "### Score comparisons (BoxPlot)"
      ]
    },
    {
      "cell_type": "code",
      "source": [
        "# Asumimos que tienes dos DataFrames: datos_depresion y datos_hipertension\n",
        "# Si no es así, ajusta el código según tus datos reales\n",
        "# De aqui, creamos un nuevo DataFrame que una ambas columnas\n",
        "\n",
        "merge_list = [\n",
        "    datos_depresion.loc[:, \"Dep_Score\"],\n",
        "    datos_hipertension.loc[:, \"Hip_Score\"],\n",
        "    datos_enfermedad_cardiaca.loc[:, \"Car_Score\"]\n",
        "]\n",
        "\n",
        "datos_scores = pd.concat(merge_list, axis = 1)\n",
        "\n",
        "# Dado que el BoxPlot de SeaBorn no permite configurar las etiquetas por separado,\n",
        "# cambiamos el nombre directamente por medio de un renombrado de las columnas\n",
        "\n",
        "new_columns = {\"Dep_Score\": \"Score Depresion\", \"Hip_Score\": \"Score Hipertension\", \"Car_Score\": \"Score Cardiopatia\"}\n",
        "\n",
        "datos_scores.rename(columns = new_columns, inplace = True)\n",
        "\n",
        "# Crear la figura y los ejes\n",
        "\n",
        "fig, ax = plt.subplots(figsize = (10, 6))\n",
        "\n",
        "# Crear el boxplot\n",
        "\n",
        "data_list = [\n",
        "    datos_scores.loc[:, \"Score Depresion\"],\n",
        "    datos_scores.loc[:, \"Score Hipertension\"],\n",
        "    datos_scores.loc[:, \"Score Cardiopatia\"]\n",
        "]\n",
        "\n",
        "sns.boxplot(data = data_list, ax = ax)\n",
        "\n",
        "# Configurar el estilo y título\n",
        "\n",
        "sns.set_style(\"darkgrid\")\n",
        "ax.set_title(\"Comparación de Scores Depresivos, Hipertensión y Cardiopatía\")\n",
        "\n",
        "# Mostrar la gráfica\n",
        "\n",
        "plt.show()"
      ],
      "metadata": {
        "colab": {
          "base_uri": "https://localhost:8080/",
          "height": 582
        },
        "id": "y9i1MmFT7glU",
        "outputId": "084263c0-3195-4823-bc43-ae1e9b303bf1",
        "ExecuteTime": {
          "end_time": "2024-10-25T07:08:35.563523Z",
          "start_time": "2024-10-25T07:08:34.782511Z"
        }
      },
      "outputs": [
        {
          "data": {
            "text/plain": [
              "<Figure size 1000x600 with 1 Axes>"
            ],
            "image/png": "[encoded data removed]"
          },
          "metadata": {},
          "output_type": "display_data"
        }
      ],
      "execution_count": null
    },
    {
      "metadata": {
        "id": "VTGEOzy90JKv"
      },
      "cell_type": "markdown",
      "source": [
        "### Heart condition frequency visualization."
      ]
    },
    {
      "metadata": {
        "ExecuteTime": {
          "end_time": "2024-10-25T07:08:36.679658Z",
          "start_time": "2024-10-25T07:08:35.572536Z"
        },
        "id": "0iP0y9r90JKv",
        "outputId": "cb7cc476-7957-4ec5-9346-7ae44efd4d14"
      },
      "cell_type": "code",
      "source": [
        "# Graficamos los datos de Cardiopatias por separado con tal de evidenciar\n",
        "# los problemas que existen en los datos\n",
        "# Para ello, copiamos el dataframe y renombramos las columnas, de manera que puedan ser\n",
        "# entendiddas de mejor manera en la grafica\n",
        "\n",
        "df = datos_enfermedad_cardiaca.loc[:, [\"a0502a\", \"a0502b\", \"a0502c\", \"a0502d\"]]\n",
        "df = df.mask(df == 1, \"Si\")\n",
        "df = df.mask(df == 0, \"No\")\n",
        "\n",
        "new_columns = {\n",
        "    \"a0502a\": \"Infarto\",\n",
        "    \"a0502b\": \"Angina de Pecho\",\n",
        "    \"a0502c\": \"Insuficiencia Cardiaca\",\n",
        "    \"a0502d\": \"Embolia\",\n",
        "}\n",
        "\n",
        "df.rename(columns = new_columns, inplace = True)\n",
        "\n",
        "# Crear la figura y los ejes\n",
        "\n",
        "fig, ax = plt.subplots(1, 4, figsize = (10, 6))\n",
        "\n",
        "sns.histplot(ax = ax[0], data = df.loc[:, \"Infarto\"], binwidth = 0.5, color = \"green\")\n",
        "sns.histplot(ax = ax[1], data = df.loc[:, \"Angina de Pecho\"], binwidth = 0.5, color = \"orange\")\n",
        "sns.histplot(ax = ax[2], data = df.loc[:, \"Insuficiencia Cardiaca\"], binwidth = 0.5, color = \"green\")\n",
        "sns.histplot(ax = ax[3], data = df.loc[:, \"Embolia\"], binwidth = 0.5, color = \"orange\")\n",
        "\n",
        "# Eliminar las etiquetas y títulos de los ejes y, dejando unicamente el primero\n",
        "\n",
        "ax[0].set_ylabel(\"Frecuencia\")\n",
        "\n",
        "for i in range(1, 4):\n",
        "    ax[i].set_ylabel(\"\")  # Elimina el título del eje Y\n",
        "    ax[i].tick_params(axis = \"y\", labelleft = False)  # Elimina las etiquetas del eje Y\n",
        "\n",
        "# Configurar el estilo y título\n",
        "\n",
        "fig.suptitle(\"Frecuencia de las Cardiopatias\")\n",
        "\n",
        "# Mostrar la gráfica\n",
        "\n",
        "plt.show()"
      ],
      "outputs": [
        {
          "data": {
            "text/plain": [
              "<Figure size 1000x600 with 4 Axes>"
            ],
            "image/png": "[encoded data removed]"
          },
          "metadata": {},
          "output_type": "display_data"
        }
      ],
      "execution_count": null
    },
    {
      "metadata": {
        "id": "1v6VBHCV0JK6"
      },
      "cell_type": "markdown",
      "source": [
        "### Comparison between depressive score and diagnosis"
      ]
    },
    {
      "metadata": {
        "ExecuteTime": {
          "end_time": "2024-10-25T07:08:37.555265Z",
          "start_time": "2024-10-25T07:08:36.685183Z"
        },
        "id": "f0gmHoHz0JK6",
        "outputId": "910c1b00-34f9-46b8-d814-6587b862d34a"
      },
      "cell_type": "code",
      "source": [
        "# Graficamos el Score de Depresion ajustado segun si la persona tiene o no diagnosticada depresion\n",
        "# df_dp = DataFrame Depresion Positivo\n",
        "# df_dn = DataFrame Depresion Negativo\n",
        "\n",
        "df_dp = datos_depresion[datos_depresion[\"a0202\"] == 1]\n",
        "df_dn = datos_depresion[datos_depresion[\"a0202\"] == 2]\n",
        "\n",
        "# Crear la figura y los ejes\n",
        "\n",
        "fig, ax = plt.subplots(1, 2, figsize = (10, 6))\n",
        "fig.suptitle(\"Comparacion entre Score Depresivo y Diagnóstico de Depresión\")\n",
        "\n",
        "sns.histplot(ax = ax[0], data = df_dn.loc[:, \"Dep_Score\"], binwidth = 0.1, color = \"green\", stat = \"percent\")\n",
        "ax[0].set_title(\"Sin Depresión\")\n",
        "ax[0].set_ylabel(\"Frecuencia Relativa (%)\")\n",
        "sns.histplot(ax = ax[1], data = df_dp.loc[:, \"Dep_Score\"], binwidth = 0.1, color = \"orange\", stat = \"percent\")\n",
        "ax[1].set_title(\"Con Depresión\")\n",
        "ax[1].set_ylabel(\"\")\n",
        "\n",
        "for ax in ax:\n",
        "    ax.set_xlabel(\"\")\n",
        "\n",
        "plt.show()"
      ],
      "outputs": [
        {
          "data": {
            "text/plain": [
              "<Figure size 1000x600 with 2 Axes>"
            ],
            "image/png": "[encoded data removed]"
          },
          "metadata": {},
          "output_type": "display_data"
        }
      ],
      "execution_count": null
    },
    {
      "metadata": {
        "ExecuteTime": {
          "end_time": "2024-10-25T07:08:38.053787Z",
          "start_time": "2024-10-25T07:08:37.557823Z"
        },
        "id": "y7t1nNwK0JK7",
        "outputId": "49df5d7d-ff96-46b4-c9ac-82ea96a600b3"
      },
      "cell_type": "code",
      "source": [
        "# Asumimos que tienes dos DataFrames: Score con diagnostico y sin diagnostico\n",
        "# Si no es así, ajusta el código según tus datos reales\n",
        "# De aqui, creamos un nuevo DataFrame que una ambas columnas\n",
        "\n",
        "# Dado que el BoxPlot de SeaBorn no permite configurar las etiquetas por separado,\n",
        "# cambiamos el nombre directamente por medio de un renombrado de las columnas\n",
        "\n",
        "dp = df_dp.loc[:, [\"Dep_Score\", \"a0202\"]]\n",
        "dp.rename(columns = {\"Dep_Score\": \"Con Diagnostico\"}, inplace = True)\n",
        "\n",
        "dn = df_dn.loc[:, [\"Dep_Score\", \"a0202\"]]\n",
        "dn.rename(columns = {\"Dep_Score\": \"Sin Diagnostico\"}, inplace = True)\n",
        "\n",
        "# Crear la figura y los ejes\n",
        "\n",
        "fig, ax = plt.subplots(figsize = (10, 6))\n",
        "\n",
        "# Crear el boxplot\n",
        "\n",
        "data_list = [\n",
        "    dp[\"Con Diagnostico\"],\n",
        "    dn[\"Sin Diagnostico\"]\n",
        "]\n",
        "\n",
        "sns.boxplot(data = data_list, ax = ax, palette = [\"orange\", \"green\"])\n",
        "\n",
        "# Configurar el estilo y título\n",
        "\n",
        "sns.set_style(\"darkgrid\")\n",
        "ax.set_title(\"Comparacion entre Score Depresivo y Diagnóstico de Depresión\")\n",
        "\n",
        "# Mostrar la gráfica\n",
        "\n",
        "plt.show()"
      ],
      "outputs": [
        {
          "data": {
            "text/plain": [
              "<Figure size 1000x600 with 1 Axes>"
            ],
            "image/png": "[encoded data removed]"
          },
          "metadata": {},
          "output_type": "display_data"
        }
      ],
      "execution_count": null
    },
    {
      "metadata": {
        "id": "twtVr66J0JK7"
      },
      "cell_type": "markdown",
      "source": [
        "### Correlation between scores"
      ]
    },
    {
      "cell_type": "code",
      "source": [
        "column_list = [\"Score Depresion\", \"Score Hipertension\", \"Score Cardiopatia\"]\n",
        "label_list = [\"Depresion\", \"Hipertension\", \"Cardiopatias\"]\n",
        "title = \"Correlacion entre Depresion y Enfermedades\"\n",
        "\n",
        "graph_correlation(datos_scores, column_list, label_list, title)"
      ],
      "metadata": {
        "id": "sZTlhR-X-y0I",
        "colab": {
          "base_uri": "https://localhost:8080/",
          "height": 333
        },
        "outputId": "924a5363-9763-42ef-947c-2bfa216170f1",
        "ExecuteTime": {
          "end_time": "2024-10-25T07:08:38.836783Z",
          "start_time": "2024-10-25T07:08:38.055798Z"
        }
      },
      "outputs": [
        {
          "data": {
            "text/plain": [
              "<Figure size 640x480 with 2 Axes>"
            ],
            "image/png": "[encoded data removed]"
          },
          "metadata": {},
          "output_type": "display_data"
        }
      ],
      "execution_count": null
    },
    {
      "cell_type": "markdown",
      "source": [
        "## Conclusion:\n",
        "\n",
        "After the previous analysis. We can clearly see that there is no conclusive correlation between depression, high blood pressure and cardiac problems in the given population sample."
      ],
      "metadata": {
        "id": "cWiTZddH0JK9"
      }
    }
  ]
}